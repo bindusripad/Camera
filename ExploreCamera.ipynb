{
 "cells": [
  {
   "cell_type": "code",
   "execution_count": 29,
   "metadata": {
    "collapsed": true
   },
   "outputs": [],
   "source": [
    "import pandas as pd\n",
    "import numpy as np"
   ]
  },
  {
   "cell_type": "markdown",
   "metadata": {},
   "source": [
    "# Acquire data"
   ]
  },
  {
   "cell_type": "code",
   "execution_count": 30,
   "metadata": {},
   "outputs": [
    {
     "data": {
      "text/plain": [
       "(1039, 13)"
      ]
     },
     "execution_count": 30,
     "metadata": {},
     "output_type": "execute_result"
    }
   ],
   "source": [
    "# read` the contents of the csv file in a df variable\n",
    "df = pd.read_csv('data/Camera.csv')\n",
    "df.shape"
   ]
  },
  {
   "cell_type": "code",
   "execution_count": 31,
   "metadata": {
    "collapsed": true
   },
   "outputs": [],
   "source": [
    "df['Make'] = df.Model.str.split(\" \").str[0]\n",
    "cols = df.columns.tolist()\n",
    "cols = cols[-1:] + cols[:-1]\n",
    "df = df[cols]"
   ]
  },
  {
   "cell_type": "markdown",
   "metadata": {},
   "source": [
    "# Refine data"
   ]
  },
  {
   "cell_type": "markdown",
   "metadata": {},
   "source": [
    "### Drop duplicate rows of data, retain the first occurence"
   ]
  },
  {
   "cell_type": "code",
   "execution_count": 32,
   "metadata": {},
   "outputs": [
    {
     "data": {
      "text/html": [
       "<div>\n",
       "<style>\n",
       "    .dataframe thead tr:only-child th {\n",
       "        text-align: right;\n",
       "    }\n",
       "\n",
       "    .dataframe thead th {\n",
       "        text-align: left;\n",
       "    }\n",
       "\n",
       "    .dataframe tbody tr th {\n",
       "        vertical-align: top;\n",
       "    }\n",
       "</style>\n",
       "<table border=\"1\" class=\"dataframe\">\n",
       "  <thead>\n",
       "    <tr style=\"text-align: right;\">\n",
       "      <th></th>\n",
       "      <th>Make</th>\n",
       "      <th>Model</th>\n",
       "      <th>Release date</th>\n",
       "      <th>Max resolution</th>\n",
       "      <th>Low resolution</th>\n",
       "      <th>Effective pixels</th>\n",
       "      <th>Zoom wide (W)</th>\n",
       "      <th>Zoom tele (T)</th>\n",
       "      <th>Normal focus range</th>\n",
       "      <th>Macro focus range</th>\n",
       "      <th>Storage included</th>\n",
       "      <th>Weight (inc. batteries)</th>\n",
       "      <th>Dimensions</th>\n",
       "      <th>Price</th>\n",
       "    </tr>\n",
       "  </thead>\n",
       "  <tbody>\n",
       "    <tr>\n",
       "      <th>8</th>\n",
       "      <td>Canon</td>\n",
       "      <td>Canon PowerShot 350</td>\n",
       "      <td>1997</td>\n",
       "      <td>640</td>\n",
       "      <td>0</td>\n",
       "      <td>0</td>\n",
       "      <td>42</td>\n",
       "      <td>42</td>\n",
       "      <td>70</td>\n",
       "      <td>3</td>\n",
       "      <td>2</td>\n",
       "      <td>320</td>\n",
       "      <td>93</td>\n",
       "      <td>149</td>\n",
       "    </tr>\n",
       "    <tr>\n",
       "      <th>9</th>\n",
       "      <td>Canon</td>\n",
       "      <td>Canon PowerShot 350</td>\n",
       "      <td>1997</td>\n",
       "      <td>640</td>\n",
       "      <td>0</td>\n",
       "      <td>0</td>\n",
       "      <td>42</td>\n",
       "      <td>42</td>\n",
       "      <td>70</td>\n",
       "      <td>3</td>\n",
       "      <td>2</td>\n",
       "      <td>320</td>\n",
       "      <td>93</td>\n",
       "      <td>149</td>\n",
       "    </tr>\n",
       "  </tbody>\n",
       "</table>\n",
       "</div>"
      ],
      "text/plain": [
       "    Make                Model Release date Max resolution Low resolution  \\\n",
       "8  Canon  Canon PowerShot 350         1997            640              0   \n",
       "9  Canon  Canon PowerShot 350         1997            640              0   \n",
       "\n",
       "  Effective pixels Zoom wide (W) Zoom tele (T) Normal focus range  \\\n",
       "8                0            42            42                 70   \n",
       "9                0            42            42                 70   \n",
       "\n",
       "  Macro focus range Storage included Weight (inc. batteries) Dimensions Price  \n",
       "8                 3                2                     320         93   149  \n",
       "9                 3                2                     320         93   149  "
      ]
     },
     "execution_count": 32,
     "metadata": {},
     "output_type": "execute_result"
    }
   ],
   "source": [
    "\n",
    "df[df.duplicated(keep=False)]"
   ]
  },
  {
   "cell_type": "code",
   "execution_count": 33,
   "metadata": {},
   "outputs": [
    {
     "data": {
      "text/html": [
       "<div>\n",
       "<style>\n",
       "    .dataframe thead tr:only-child th {\n",
       "        text-align: right;\n",
       "    }\n",
       "\n",
       "    .dataframe thead th {\n",
       "        text-align: left;\n",
       "    }\n",
       "\n",
       "    .dataframe tbody tr th {\n",
       "        vertical-align: top;\n",
       "    }\n",
       "</style>\n",
       "<table border=\"1\" class=\"dataframe\">\n",
       "  <thead>\n",
       "    <tr style=\"text-align: right;\">\n",
       "      <th></th>\n",
       "      <th>Make</th>\n",
       "      <th>Model</th>\n",
       "      <th>Release date</th>\n",
       "      <th>Max resolution</th>\n",
       "      <th>Low resolution</th>\n",
       "      <th>Effective pixels</th>\n",
       "      <th>Zoom wide (W)</th>\n",
       "      <th>Zoom tele (T)</th>\n",
       "      <th>Normal focus range</th>\n",
       "      <th>Macro focus range</th>\n",
       "      <th>Storage included</th>\n",
       "      <th>Weight (inc. batteries)</th>\n",
       "      <th>Dimensions</th>\n",
       "      <th>Price</th>\n",
       "    </tr>\n",
       "  </thead>\n",
       "  <tbody>\n",
       "    <tr>\n",
       "      <th>0</th>\n",
       "      <td>STRING</td>\n",
       "      <td>STRING</td>\n",
       "      <td>DOUBLE</td>\n",
       "      <td>DOUBLE</td>\n",
       "      <td>DOUBLE</td>\n",
       "      <td>DOUBLE</td>\n",
       "      <td>DOUBLE</td>\n",
       "      <td>DOUBLE</td>\n",
       "      <td>DOUBLE</td>\n",
       "      <td>DOUBLE</td>\n",
       "      <td>DOUBLE</td>\n",
       "      <td>DOUBLE</td>\n",
       "      <td>DOUBLE</td>\n",
       "      <td>DOUBLE</td>\n",
       "    </tr>\n",
       "    <tr>\n",
       "      <th>1</th>\n",
       "      <td>Agfa</td>\n",
       "      <td>Agfa ePhoto 1280</td>\n",
       "      <td>1997</td>\n",
       "      <td>1024</td>\n",
       "      <td>640</td>\n",
       "      <td>0</td>\n",
       "      <td>38</td>\n",
       "      <td>114</td>\n",
       "      <td>70</td>\n",
       "      <td>40</td>\n",
       "      <td>4</td>\n",
       "      <td>420</td>\n",
       "      <td>95</td>\n",
       "      <td>179</td>\n",
       "    </tr>\n",
       "    <tr>\n",
       "      <th>2</th>\n",
       "      <td>Agfa</td>\n",
       "      <td>Agfa ePhoto 1680</td>\n",
       "      <td>1998</td>\n",
       "      <td>1280</td>\n",
       "      <td>640</td>\n",
       "      <td>1</td>\n",
       "      <td>38</td>\n",
       "      <td>114</td>\n",
       "      <td>50</td>\n",
       "      <td>0</td>\n",
       "      <td>4</td>\n",
       "      <td>420</td>\n",
       "      <td>158</td>\n",
       "      <td>179</td>\n",
       "    </tr>\n",
       "    <tr>\n",
       "      <th>3</th>\n",
       "      <td>Agfa</td>\n",
       "      <td>Agfa ePhoto CL18</td>\n",
       "      <td>2000</td>\n",
       "      <td>640</td>\n",
       "      <td>0</td>\n",
       "      <td>0</td>\n",
       "      <td>45</td>\n",
       "      <td>45</td>\n",
       "      <td>0</td>\n",
       "      <td>0</td>\n",
       "      <td>2</td>\n",
       "      <td>0</td>\n",
       "      <td>0</td>\n",
       "      <td>179</td>\n",
       "    </tr>\n",
       "    <tr>\n",
       "      <th>4</th>\n",
       "      <td>Agfa</td>\n",
       "      <td>Agfa ePhoto CL30</td>\n",
       "      <td>1999</td>\n",
       "      <td>1152</td>\n",
       "      <td>640</td>\n",
       "      <td>0</td>\n",
       "      <td>35</td>\n",
       "      <td>35</td>\n",
       "      <td>0</td>\n",
       "      <td>0</td>\n",
       "      <td>4</td>\n",
       "      <td>0</td>\n",
       "      <td>0</td>\n",
       "      <td>269</td>\n",
       "    </tr>\n",
       "    <tr>\n",
       "      <th>5</th>\n",
       "      <td>Agfa</td>\n",
       "      <td>Agfa ePhoto CL30 Clik!</td>\n",
       "      <td>1999</td>\n",
       "      <td>1152</td>\n",
       "      <td>640</td>\n",
       "      <td>0</td>\n",
       "      <td>43</td>\n",
       "      <td>43</td>\n",
       "      <td>50</td>\n",
       "      <td>0</td>\n",
       "      <td>40</td>\n",
       "      <td>300</td>\n",
       "      <td>128</td>\n",
       "      <td>1299</td>\n",
       "    </tr>\n",
       "    <tr>\n",
       "      <th>6</th>\n",
       "      <td>Agfa</td>\n",
       "      <td>Agfa ePhoto CL45</td>\n",
       "      <td>2001</td>\n",
       "      <td>1600</td>\n",
       "      <td>640</td>\n",
       "      <td>1</td>\n",
       "      <td>51</td>\n",
       "      <td>51</td>\n",
       "      <td>50</td>\n",
       "      <td>20</td>\n",
       "      <td>8</td>\n",
       "      <td>270</td>\n",
       "      <td>119</td>\n",
       "      <td>179</td>\n",
       "    </tr>\n",
       "    <tr>\n",
       "      <th>7</th>\n",
       "      <td>Agfa</td>\n",
       "      <td>Agfa ePhoto CL50</td>\n",
       "      <td>1999</td>\n",
       "      <td>1280</td>\n",
       "      <td>640</td>\n",
       "      <td>1</td>\n",
       "      <td>34</td>\n",
       "      <td>102</td>\n",
       "      <td>0</td>\n",
       "      <td>0</td>\n",
       "      <td>8</td>\n",
       "      <td>0</td>\n",
       "      <td>0</td>\n",
       "      <td>0</td>\n",
       "    </tr>\n",
       "    <tr>\n",
       "      <th>8</th>\n",
       "      <td>Canon</td>\n",
       "      <td>Canon PowerShot 350</td>\n",
       "      <td>1997</td>\n",
       "      <td>640</td>\n",
       "      <td>0</td>\n",
       "      <td>0</td>\n",
       "      <td>42</td>\n",
       "      <td>42</td>\n",
       "      <td>70</td>\n",
       "      <td>3</td>\n",
       "      <td>2</td>\n",
       "      <td>320</td>\n",
       "      <td>93</td>\n",
       "      <td>149</td>\n",
       "    </tr>\n",
       "    <tr>\n",
       "      <th>10</th>\n",
       "      <td>Canon</td>\n",
       "      <td>Canon PowerShot A10</td>\n",
       "      <td>2001</td>\n",
       "      <td>1280</td>\n",
       "      <td>1024</td>\n",
       "      <td>1</td>\n",
       "      <td>35</td>\n",
       "      <td>105</td>\n",
       "      <td>76</td>\n",
       "      <td>16</td>\n",
       "      <td>8</td>\n",
       "      <td>375</td>\n",
       "      <td>110</td>\n",
       "      <td>139</td>\n",
       "    </tr>\n",
       "    <tr>\n",
       "      <th>11</th>\n",
       "      <td>Canon</td>\n",
       "      <td>Canon PowerShot A100</td>\n",
       "      <td>2002</td>\n",
       "      <td>1280</td>\n",
       "      <td>1024</td>\n",
       "      <td>1</td>\n",
       "      <td>39</td>\n",
       "      <td>39</td>\n",
       "      <td>20</td>\n",
       "      <td>5</td>\n",
       "      <td>8</td>\n",
       "      <td>225</td>\n",
       "      <td>110</td>\n",
       "      <td>139</td>\n",
       "    </tr>\n",
       "    <tr>\n",
       "      <th>12</th>\n",
       "      <td>Canon</td>\n",
       "      <td>Canon PowerShot A20</td>\n",
       "      <td>2001</td>\n",
       "      <td>1600</td>\n",
       "      <td>1024</td>\n",
       "      <td>1</td>\n",
       "      <td>35</td>\n",
       "      <td>105</td>\n",
       "      <td>76</td>\n",
       "      <td>16</td>\n",
       "      <td>8</td>\n",
       "      <td>375</td>\n",
       "      <td>110</td>\n",
       "      <td>139</td>\n",
       "    </tr>\n",
       "    <tr>\n",
       "      <th>13</th>\n",
       "      <td>Canon</td>\n",
       "      <td>Canon PowerShot A200</td>\n",
       "      <td>2002</td>\n",
       "      <td>1600</td>\n",
       "      <td>1024</td>\n",
       "      <td>1</td>\n",
       "      <td>39</td>\n",
       "      <td>39</td>\n",
       "      <td>20</td>\n",
       "      <td>5</td>\n",
       "      <td>8</td>\n",
       "      <td>225</td>\n",
       "      <td>110</td>\n",
       "      <td>139</td>\n",
       "    </tr>\n",
       "    <tr>\n",
       "      <th>14</th>\n",
       "      <td>Canon</td>\n",
       "      <td>Canon PowerShot A30</td>\n",
       "      <td>2002</td>\n",
       "      <td>1280</td>\n",
       "      <td>1024</td>\n",
       "      <td>1</td>\n",
       "      <td>35</td>\n",
       "      <td>105</td>\n",
       "      <td>76</td>\n",
       "      <td>16</td>\n",
       "      <td>8</td>\n",
       "      <td>350</td>\n",
       "      <td>110</td>\n",
       "      <td>-599</td>\n",
       "    </tr>\n",
       "    <tr>\n",
       "      <th>15</th>\n",
       "      <td>Canon</td>\n",
       "      <td>Canon PowerShot A300</td>\n",
       "      <td>2003</td>\n",
       "      <td>2048</td>\n",
       "      <td>1600</td>\n",
       "      <td>3</td>\n",
       "      <td>33</td>\n",
       "      <td>33</td>\n",
       "      <td>20</td>\n",
       "      <td>5</td>\n",
       "      <td>32</td>\n",
       "      <td>225</td>\n",
       "      <td>111</td>\n",
       "      <td>139</td>\n",
       "    </tr>\n",
       "    <tr>\n",
       "      <th>16</th>\n",
       "      <td>Canon</td>\n",
       "      <td>Canon PowerShot A310</td>\n",
       "      <td>2004</td>\n",
       "      <td>2048</td>\n",
       "      <td>1600</td>\n",
       "      <td>3</td>\n",
       "      <td>33</td>\n",
       "      <td>33</td>\n",
       "      <td>0</td>\n",
       "      <td>5</td>\n",
       "      <td>0</td>\n",
       "      <td>205</td>\n",
       "      <td>110</td>\n",
       "      <td>139</td>\n",
       "    </tr>\n",
       "    <tr>\n",
       "      <th>17</th>\n",
       "      <td>Canon</td>\n",
       "      <td>Canon PowerShot A40</td>\n",
       "      <td>2002</td>\n",
       "      <td>1600</td>\n",
       "      <td>1024</td>\n",
       "      <td>1</td>\n",
       "      <td>35</td>\n",
       "      <td>105</td>\n",
       "      <td>76</td>\n",
       "      <td>16</td>\n",
       "      <td>8</td>\n",
       "      <td>350</td>\n",
       "      <td>110</td>\n",
       "      <td>0</td>\n",
       "    </tr>\n",
       "    <tr>\n",
       "      <th>18</th>\n",
       "      <td>Canon</td>\n",
       "      <td>Canon PowerShot A400</td>\n",
       "      <td>2004</td>\n",
       "      <td>2048</td>\n",
       "      <td>1600</td>\n",
       "      <td>3</td>\n",
       "      <td>45</td>\n",
       "      <td>100</td>\n",
       "      <td>0</td>\n",
       "      <td>5</td>\n",
       "      <td>16</td>\n",
       "      <td>255</td>\n",
       "      <td>107</td>\n",
       "      <td>139</td>\n",
       "    </tr>\n",
       "    <tr>\n",
       "      <th>19</th>\n",
       "      <td>Canon</td>\n",
       "      <td>Canon PowerShot A410</td>\n",
       "      <td>2005</td>\n",
       "      <td>2048</td>\n",
       "      <td>1600</td>\n",
       "      <td>3</td>\n",
       "      <td>41</td>\n",
       "      <td>131</td>\n",
       "      <td>0</td>\n",
       "      <td>1</td>\n",
       "      <td>16</td>\n",
       "      <td>195</td>\n",
       "      <td>103</td>\n",
       "      <td>139</td>\n",
       "    </tr>\n",
       "    <tr>\n",
       "      <th>20</th>\n",
       "      <td>Canon</td>\n",
       "      <td>Canon PowerShot A420</td>\n",
       "      <td>2006</td>\n",
       "      <td>2272</td>\n",
       "      <td>1600</td>\n",
       "      <td>4</td>\n",
       "      <td>39</td>\n",
       "      <td>125</td>\n",
       "      <td>47</td>\n",
       "      <td>1</td>\n",
       "      <td>16</td>\n",
       "      <td>200</td>\n",
       "      <td>103</td>\n",
       "      <td>139</td>\n",
       "    </tr>\n",
       "    <tr>\n",
       "      <th>21</th>\n",
       "      <td>Canon</td>\n",
       "      <td>Canon PowerShot A430</td>\n",
       "      <td>2006</td>\n",
       "      <td>2272</td>\n",
       "      <td>1600</td>\n",
       "      <td>4</td>\n",
       "      <td>39</td>\n",
       "      <td>156</td>\n",
       "      <td>47</td>\n",
       "      <td>1</td>\n",
       "      <td>16</td>\n",
       "      <td>210</td>\n",
       "      <td>103</td>\n",
       "      <td>139</td>\n",
       "    </tr>\n",
       "    <tr>\n",
       "      <th>22</th>\n",
       "      <td>Canon</td>\n",
       "      <td>Canon PowerShot A450</td>\n",
       "      <td>2007</td>\n",
       "      <td>2592</td>\n",
       "      <td>2048</td>\n",
       "      <td>5</td>\n",
       "      <td>38</td>\n",
       "      <td>122</td>\n",
       "      <td>47</td>\n",
       "      <td>1</td>\n",
       "      <td>16</td>\n",
       "      <td>215</td>\n",
       "      <td>106</td>\n",
       "      <td>139</td>\n",
       "    </tr>\n",
       "    <tr>\n",
       "      <th>23</th>\n",
       "      <td>Canon</td>\n",
       "      <td>Canon PowerShot A460</td>\n",
       "      <td>2007</td>\n",
       "      <td>2592</td>\n",
       "      <td>2048</td>\n",
       "      <td>5</td>\n",
       "      <td>38</td>\n",
       "      <td>152</td>\n",
       "      <td>47</td>\n",
       "      <td>1</td>\n",
       "      <td>16</td>\n",
       "      <td>215</td>\n",
       "      <td>106</td>\n",
       "      <td>139</td>\n",
       "    </tr>\n",
       "    <tr>\n",
       "      <th>24</th>\n",
       "      <td>Canon</td>\n",
       "      <td>Canon PowerShot A5</td>\n",
       "      <td>1998</td>\n",
       "      <td>1024</td>\n",
       "      <td>512</td>\n",
       "      <td>0</td>\n",
       "      <td>35</td>\n",
       "      <td>35</td>\n",
       "      <td>50</td>\n",
       "      <td>9</td>\n",
       "      <td>8</td>\n",
       "      <td>240</td>\n",
       "      <td>105</td>\n",
       "      <td>149</td>\n",
       "    </tr>\n",
       "    <tr>\n",
       "      <th>25</th>\n",
       "      <td>Canon</td>\n",
       "      <td>Canon PowerShot A50</td>\n",
       "      <td>1999</td>\n",
       "      <td>1280</td>\n",
       "      <td>640</td>\n",
       "      <td>1</td>\n",
       "      <td>28</td>\n",
       "      <td>70</td>\n",
       "      <td>50</td>\n",
       "      <td>17</td>\n",
       "      <td>8</td>\n",
       "      <td>290</td>\n",
       "      <td>103</td>\n",
       "      <td>149</td>\n",
       "    </tr>\n",
       "    <tr>\n",
       "      <th>26</th>\n",
       "      <td>Canon</td>\n",
       "      <td>Canon PowerShot A510</td>\n",
       "      <td>2005</td>\n",
       "      <td>2048</td>\n",
       "      <td>1600</td>\n",
       "      <td>3</td>\n",
       "      <td>35</td>\n",
       "      <td>140</td>\n",
       "      <td>0</td>\n",
       "      <td>5</td>\n",
       "      <td>16</td>\n",
       "      <td>230</td>\n",
       "      <td>91</td>\n",
       "      <td>139</td>\n",
       "    </tr>\n",
       "    <tr>\n",
       "      <th>27</th>\n",
       "      <td>Canon</td>\n",
       "      <td>Canon PowerShot A520</td>\n",
       "      <td>2005</td>\n",
       "      <td>2272</td>\n",
       "      <td>1600</td>\n",
       "      <td>3</td>\n",
       "      <td>35</td>\n",
       "      <td>140</td>\n",
       "      <td>0</td>\n",
       "      <td>5</td>\n",
       "      <td>16</td>\n",
       "      <td>230</td>\n",
       "      <td>91</td>\n",
       "      <td>149</td>\n",
       "    </tr>\n",
       "    <tr>\n",
       "      <th>28</th>\n",
       "      <td>Canon</td>\n",
       "      <td>Canon PowerShot A530</td>\n",
       "      <td>2006</td>\n",
       "      <td>2592</td>\n",
       "      <td>2048</td>\n",
       "      <td>5</td>\n",
       "      <td>35</td>\n",
       "      <td>140</td>\n",
       "      <td>45</td>\n",
       "      <td>5</td>\n",
       "      <td>16</td>\n",
       "      <td>220</td>\n",
       "      <td>90</td>\n",
       "      <td>149</td>\n",
       "    </tr>\n",
       "    <tr>\n",
       "      <th>29</th>\n",
       "      <td>Canon</td>\n",
       "      <td>Canon PowerShot A540</td>\n",
       "      <td>2006</td>\n",
       "      <td>2816</td>\n",
       "      <td>2272</td>\n",
       "      <td>6</td>\n",
       "      <td>35</td>\n",
       "      <td>140</td>\n",
       "      <td>45</td>\n",
       "      <td>5</td>\n",
       "      <td>16</td>\n",
       "      <td>230</td>\n",
       "      <td>90</td>\n",
       "      <td>149</td>\n",
       "    </tr>\n",
       "    <tr>\n",
       "      <th>30</th>\n",
       "      <td>Canon</td>\n",
       "      <td>Canon PowerShot A550</td>\n",
       "      <td>2007</td>\n",
       "      <td>3072</td>\n",
       "      <td>2592</td>\n",
       "      <td>7</td>\n",
       "      <td>35</td>\n",
       "      <td>140</td>\n",
       "      <td>45</td>\n",
       "      <td>5</td>\n",
       "      <td>16</td>\n",
       "      <td>210</td>\n",
       "      <td>91</td>\n",
       "      <td>149</td>\n",
       "    </tr>\n",
       "    <tr>\n",
       "      <th>...</th>\n",
       "      <td>...</td>\n",
       "      <td>...</td>\n",
       "      <td>...</td>\n",
       "      <td>...</td>\n",
       "      <td>...</td>\n",
       "      <td>...</td>\n",
       "      <td>...</td>\n",
       "      <td>...</td>\n",
       "      <td>...</td>\n",
       "      <td>...</td>\n",
       "      <td>...</td>\n",
       "      <td>...</td>\n",
       "      <td>...</td>\n",
       "      <td>...</td>\n",
       "    </tr>\n",
       "    <tr>\n",
       "      <th>1009</th>\n",
       "      <td>Sony</td>\n",
       "      <td>Sony Mavica FD-71</td>\n",
       "      <td>1998</td>\n",
       "      <td>640</td>\n",
       "      <td>320</td>\n",
       "      <td>0</td>\n",
       "      <td>40</td>\n",
       "      <td>400</td>\n",
       "      <td>1</td>\n",
       "      <td>1</td>\n",
       "      <td>1</td>\n",
       "      <td>500</td>\n",
       "      <td>138</td>\n",
       "      <td>1399</td>\n",
       "    </tr>\n",
       "    <tr>\n",
       "      <th>1010</th>\n",
       "      <td>Sony</td>\n",
       "      <td>Sony Mavica FD-73</td>\n",
       "      <td>1999</td>\n",
       "      <td>640</td>\n",
       "      <td>320</td>\n",
       "      <td>0</td>\n",
       "      <td>40</td>\n",
       "      <td>400</td>\n",
       "      <td>1</td>\n",
       "      <td>1</td>\n",
       "      <td>1</td>\n",
       "      <td>500</td>\n",
       "      <td>138</td>\n",
       "      <td>1399</td>\n",
       "    </tr>\n",
       "    <tr>\n",
       "      <th>1011</th>\n",
       "      <td>Sony</td>\n",
       "      <td>Sony Mavica FD-75</td>\n",
       "      <td>2001</td>\n",
       "      <td>640</td>\n",
       "      <td>320</td>\n",
       "      <td>0</td>\n",
       "      <td>40</td>\n",
       "      <td>400</td>\n",
       "      <td>1</td>\n",
       "      <td>1</td>\n",
       "      <td>1</td>\n",
       "      <td>580</td>\n",
       "      <td>138</td>\n",
       "      <td>1399</td>\n",
       "    </tr>\n",
       "    <tr>\n",
       "      <th>1012</th>\n",
       "      <td>Sony</td>\n",
       "      <td>Sony Mavica FD-81</td>\n",
       "      <td>1998</td>\n",
       "      <td>1024</td>\n",
       "      <td>640</td>\n",
       "      <td>0</td>\n",
       "      <td>37</td>\n",
       "      <td>111</td>\n",
       "      <td>1</td>\n",
       "      <td>1</td>\n",
       "      <td>1</td>\n",
       "      <td>580</td>\n",
       "      <td>140</td>\n",
       "      <td>1399</td>\n",
       "    </tr>\n",
       "    <tr>\n",
       "      <th>1013</th>\n",
       "      <td>Sony</td>\n",
       "      <td>Sony Mavica FD-83</td>\n",
       "      <td>1999</td>\n",
       "      <td>1024</td>\n",
       "      <td>640</td>\n",
       "      <td>0</td>\n",
       "      <td>37</td>\n",
       "      <td>111</td>\n",
       "      <td>1</td>\n",
       "      <td>1</td>\n",
       "      <td>1</td>\n",
       "      <td>580</td>\n",
       "      <td>142</td>\n",
       "      <td>1399</td>\n",
       "    </tr>\n",
       "    <tr>\n",
       "      <th>1014</th>\n",
       "      <td>Sony</td>\n",
       "      <td>Sony Mavica FD-85</td>\n",
       "      <td>2000</td>\n",
       "      <td>1280</td>\n",
       "      <td>1280</td>\n",
       "      <td>1</td>\n",
       "      <td>37</td>\n",
       "      <td>111</td>\n",
       "      <td>1</td>\n",
       "      <td>1</td>\n",
       "      <td>1</td>\n",
       "      <td>0</td>\n",
       "      <td>0</td>\n",
       "      <td>1399</td>\n",
       "    </tr>\n",
       "    <tr>\n",
       "      <th>1015</th>\n",
       "      <td>Sony</td>\n",
       "      <td>Sony Mavica FD-87</td>\n",
       "      <td>2001</td>\n",
       "      <td>1280</td>\n",
       "      <td>1024</td>\n",
       "      <td>1</td>\n",
       "      <td>39</td>\n",
       "      <td>117</td>\n",
       "      <td>25</td>\n",
       "      <td>3</td>\n",
       "      <td>1</td>\n",
       "      <td>630</td>\n",
       "      <td>143</td>\n",
       "      <td>1399</td>\n",
       "    </tr>\n",
       "    <tr>\n",
       "      <th>1016</th>\n",
       "      <td>Sony</td>\n",
       "      <td>Sony Mavica FD-88</td>\n",
       "      <td>1999</td>\n",
       "      <td>1280</td>\n",
       "      <td>1024</td>\n",
       "      <td>1</td>\n",
       "      <td>34</td>\n",
       "      <td>270</td>\n",
       "      <td>4</td>\n",
       "      <td>4</td>\n",
       "      <td>1</td>\n",
       "      <td>600</td>\n",
       "      <td>142</td>\n",
       "      <td>1399</td>\n",
       "    </tr>\n",
       "    <tr>\n",
       "      <th>1017</th>\n",
       "      <td>Sony</td>\n",
       "      <td>Sony Mavica FD-90</td>\n",
       "      <td>2000</td>\n",
       "      <td>1280</td>\n",
       "      <td>1280</td>\n",
       "      <td>1</td>\n",
       "      <td>34</td>\n",
       "      <td>270</td>\n",
       "      <td>4</td>\n",
       "      <td>4</td>\n",
       "      <td>1</td>\n",
       "      <td>0</td>\n",
       "      <td>0</td>\n",
       "      <td>1399</td>\n",
       "    </tr>\n",
       "    <tr>\n",
       "      <th>1018</th>\n",
       "      <td>Sony</td>\n",
       "      <td>Sony Mavica FD-92</td>\n",
       "      <td>2001</td>\n",
       "      <td>1472</td>\n",
       "      <td>1280</td>\n",
       "      <td>1</td>\n",
       "      <td>41</td>\n",
       "      <td>328</td>\n",
       "      <td>25</td>\n",
       "      <td>3</td>\n",
       "      <td>1</td>\n",
       "      <td>660</td>\n",
       "      <td>126</td>\n",
       "      <td>1399</td>\n",
       "    </tr>\n",
       "    <tr>\n",
       "      <th>1019</th>\n",
       "      <td>Sony</td>\n",
       "      <td>Sony Mavica FD-95</td>\n",
       "      <td>2000</td>\n",
       "      <td>1600</td>\n",
       "      <td>1600</td>\n",
       "      <td>1</td>\n",
       "      <td>37</td>\n",
       "      <td>370</td>\n",
       "      <td>80</td>\n",
       "      <td>3</td>\n",
       "      <td>1</td>\n",
       "      <td>900</td>\n",
       "      <td>0</td>\n",
       "      <td>1399</td>\n",
       "    </tr>\n",
       "    <tr>\n",
       "      <th>1020</th>\n",
       "      <td>Sony</td>\n",
       "      <td>Sony Mavica FD-97</td>\n",
       "      <td>2001</td>\n",
       "      <td>1600</td>\n",
       "      <td>1024</td>\n",
       "      <td>1</td>\n",
       "      <td>39</td>\n",
       "      <td>390</td>\n",
       "      <td>25</td>\n",
       "      <td>2</td>\n",
       "      <td>1</td>\n",
       "      <td>990</td>\n",
       "      <td>126</td>\n",
       "      <td>1399</td>\n",
       "    </tr>\n",
       "    <tr>\n",
       "      <th>1021</th>\n",
       "      <td>Toshiba</td>\n",
       "      <td>Toshiba PDR-3310</td>\n",
       "      <td>2002</td>\n",
       "      <td>2048</td>\n",
       "      <td>1024</td>\n",
       "      <td>3</td>\n",
       "      <td>35</td>\n",
       "      <td>105</td>\n",
       "      <td>55</td>\n",
       "      <td>12</td>\n",
       "      <td>8</td>\n",
       "      <td>205</td>\n",
       "      <td>91</td>\n",
       "      <td>177</td>\n",
       "    </tr>\n",
       "    <tr>\n",
       "      <th>1022</th>\n",
       "      <td>Toshiba</td>\n",
       "      <td>Toshiba PDR-3330</td>\n",
       "      <td>2002</td>\n",
       "      <td>2048</td>\n",
       "      <td>1024</td>\n",
       "      <td>3</td>\n",
       "      <td>35</td>\n",
       "      <td>100</td>\n",
       "      <td>80</td>\n",
       "      <td>10</td>\n",
       "      <td>8</td>\n",
       "      <td>320</td>\n",
       "      <td>116</td>\n",
       "      <td>177</td>\n",
       "    </tr>\n",
       "    <tr>\n",
       "      <th>1023</th>\n",
       "      <td>Toshiba</td>\n",
       "      <td>Toshiba PDR-4300</td>\n",
       "      <td>2003</td>\n",
       "      <td>2400</td>\n",
       "      <td>1200</td>\n",
       "      <td>3</td>\n",
       "      <td>35</td>\n",
       "      <td>100</td>\n",
       "      <td>80</td>\n",
       "      <td>10</td>\n",
       "      <td>16</td>\n",
       "      <td>0</td>\n",
       "      <td>0</td>\n",
       "      <td>599</td>\n",
       "    </tr>\n",
       "    <tr>\n",
       "      <th>1024</th>\n",
       "      <td>Toshiba</td>\n",
       "      <td>Toshiba PDR-5300</td>\n",
       "      <td>2003</td>\n",
       "      <td>2560</td>\n",
       "      <td>2048</td>\n",
       "      <td>4</td>\n",
       "      <td>35</td>\n",
       "      <td>105</td>\n",
       "      <td>80</td>\n",
       "      <td>10</td>\n",
       "      <td>16</td>\n",
       "      <td>230</td>\n",
       "      <td>93</td>\n",
       "      <td>177</td>\n",
       "    </tr>\n",
       "    <tr>\n",
       "      <th>1025</th>\n",
       "      <td>Toshiba</td>\n",
       "      <td>Toshiba PDR-M1</td>\n",
       "      <td>1998</td>\n",
       "      <td>1280</td>\n",
       "      <td>640</td>\n",
       "      <td>1</td>\n",
       "      <td>35</td>\n",
       "      <td>35</td>\n",
       "      <td>50</td>\n",
       "      <td>9</td>\n",
       "      <td>4</td>\n",
       "      <td>290</td>\n",
       "      <td>123</td>\n",
       "      <td>62</td>\n",
       "    </tr>\n",
       "    <tr>\n",
       "      <th>1026</th>\n",
       "      <td>Toshiba</td>\n",
       "      <td>Toshiba PDR-M11</td>\n",
       "      <td>2001</td>\n",
       "      <td>1280</td>\n",
       "      <td>640</td>\n",
       "      <td>1</td>\n",
       "      <td>52</td>\n",
       "      <td>52</td>\n",
       "      <td>90</td>\n",
       "      <td>0</td>\n",
       "      <td>8</td>\n",
       "      <td>240</td>\n",
       "      <td>116</td>\n",
       "      <td>62</td>\n",
       "    </tr>\n",
       "    <tr>\n",
       "      <th>1027</th>\n",
       "      <td>Toshiba</td>\n",
       "      <td>Toshiba PDR-M21</td>\n",
       "      <td>2001</td>\n",
       "      <td>1600</td>\n",
       "      <td>800</td>\n",
       "      <td>1</td>\n",
       "      <td>39</td>\n",
       "      <td>39</td>\n",
       "      <td>50</td>\n",
       "      <td>0</td>\n",
       "      <td>8</td>\n",
       "      <td>240</td>\n",
       "      <td>116</td>\n",
       "      <td>177</td>\n",
       "    </tr>\n",
       "    <tr>\n",
       "      <th>1028</th>\n",
       "      <td>Toshiba</td>\n",
       "      <td>Toshiba PDR-M25</td>\n",
       "      <td>2001</td>\n",
       "      <td>1729</td>\n",
       "      <td>896</td>\n",
       "      <td>2</td>\n",
       "      <td>38</td>\n",
       "      <td>114</td>\n",
       "      <td>40</td>\n",
       "      <td>8</td>\n",
       "      <td>8</td>\n",
       "      <td>320</td>\n",
       "      <td>105</td>\n",
       "      <td>177</td>\n",
       "    </tr>\n",
       "    <tr>\n",
       "      <th>1029</th>\n",
       "      <td>Toshiba</td>\n",
       "      <td>Toshiba PDR-M3</td>\n",
       "      <td>123</td>\n",
       "      <td>1280</td>\n",
       "      <td>640</td>\n",
       "      <td>1</td>\n",
       "      <td>38</td>\n",
       "      <td>115</td>\n",
       "      <td>90</td>\n",
       "      <td>25</td>\n",
       "      <td>4</td>\n",
       "      <td>380</td>\n",
       "      <td>122</td>\n",
       "      <td>62</td>\n",
       "    </tr>\n",
       "    <tr>\n",
       "      <th>1030</th>\n",
       "      <td>Toshiba</td>\n",
       "      <td>Toshiba PDR-M4</td>\n",
       "      <td>1999</td>\n",
       "      <td>1600</td>\n",
       "      <td>800</td>\n",
       "      <td>1</td>\n",
       "      <td>40</td>\n",
       "      <td>40</td>\n",
       "      <td>50</td>\n",
       "      <td>10</td>\n",
       "      <td>8</td>\n",
       "      <td>290</td>\n",
       "      <td>112</td>\n",
       "      <td>62</td>\n",
       "    </tr>\n",
       "    <tr>\n",
       "      <th>1031</th>\n",
       "      <td>Toshiba</td>\n",
       "      <td>Toshiba PDR-M5</td>\n",
       "      <td>1999</td>\n",
       "      <td>1600</td>\n",
       "      <td>800</td>\n",
       "      <td>1</td>\n",
       "      <td>40</td>\n",
       "      <td>120</td>\n",
       "      <td>90</td>\n",
       "      <td>25</td>\n",
       "      <td>8</td>\n",
       "      <td>350</td>\n",
       "      <td>130</td>\n",
       "      <td>62</td>\n",
       "    </tr>\n",
       "    <tr>\n",
       "      <th>1032</th>\n",
       "      <td>Toshiba</td>\n",
       "      <td>Toshiba PDR-M60</td>\n",
       "      <td>2000</td>\n",
       "      <td>1792</td>\n",
       "      <td>896</td>\n",
       "      <td>2</td>\n",
       "      <td>38</td>\n",
       "      <td>86</td>\n",
       "      <td>50</td>\n",
       "      <td>5</td>\n",
       "      <td>4</td>\n",
       "      <td>320</td>\n",
       "      <td>121</td>\n",
       "      <td>449</td>\n",
       "    </tr>\n",
       "    <tr>\n",
       "      <th>1033</th>\n",
       "      <td>Toshiba</td>\n",
       "      <td>Toshiba PDR-M61</td>\n",
       "      <td>2001</td>\n",
       "      <td>1792</td>\n",
       "      <td>896</td>\n",
       "      <td>2</td>\n",
       "      <td>38</td>\n",
       "      <td>114</td>\n",
       "      <td>50</td>\n",
       "      <td>5</td>\n",
       "      <td>8</td>\n",
       "      <td>310</td>\n",
       "      <td>123</td>\n",
       "      <td>62</td>\n",
       "    </tr>\n",
       "    <tr>\n",
       "      <th>1034</th>\n",
       "      <td>Toshiba</td>\n",
       "      <td>Toshiba PDR-M65</td>\n",
       "      <td>2001</td>\n",
       "      <td>2048</td>\n",
       "      <td>1024</td>\n",
       "      <td>3</td>\n",
       "      <td>38</td>\n",
       "      <td>114</td>\n",
       "      <td>10</td>\n",
       "      <td>10</td>\n",
       "      <td>8</td>\n",
       "      <td>320</td>\n",
       "      <td>120</td>\n",
       "      <td>62</td>\n",
       "    </tr>\n",
       "    <tr>\n",
       "      <th>1035</th>\n",
       "      <td>Toshiba</td>\n",
       "      <td>Toshiba PDR-M70</td>\n",
       "      <td>2000</td>\n",
       "      <td>2048</td>\n",
       "      <td>1024</td>\n",
       "      <td>3</td>\n",
       "      <td>35</td>\n",
       "      <td>105</td>\n",
       "      <td>80</td>\n",
       "      <td>9</td>\n",
       "      <td>16</td>\n",
       "      <td>390</td>\n",
       "      <td>116</td>\n",
       "      <td>62</td>\n",
       "    </tr>\n",
       "    <tr>\n",
       "      <th>1036</th>\n",
       "      <td>Toshiba</td>\n",
       "      <td>Toshiba PDR-M71</td>\n",
       "      <td>2001</td>\n",
       "      <td>2048</td>\n",
       "      <td>1024</td>\n",
       "      <td>3</td>\n",
       "      <td>35</td>\n",
       "      <td>98</td>\n",
       "      <td>80</td>\n",
       "      <td>10</td>\n",
       "      <td>8</td>\n",
       "      <td>340</td>\n",
       "      <td>107</td>\n",
       "      <td>62</td>\n",
       "    </tr>\n",
       "    <tr>\n",
       "      <th>1037</th>\n",
       "      <td>Toshiba</td>\n",
       "      <td>Toshiba PDR-M81</td>\n",
       "      <td>2001</td>\n",
       "      <td>2400</td>\n",
       "      <td>1200</td>\n",
       "      <td>3</td>\n",
       "      <td>35</td>\n",
       "      <td>98</td>\n",
       "      <td>80</td>\n",
       "      <td>10</td>\n",
       "      <td>16</td>\n",
       "      <td>340</td>\n",
       "      <td>107</td>\n",
       "      <td>62</td>\n",
       "    </tr>\n",
       "    <tr>\n",
       "      <th>1038</th>\n",
       "      <td>Toshiba</td>\n",
       "      <td>Toshiba PDR-T10</td>\n",
       "      <td>3000</td>\n",
       "      <td>1600</td>\n",
       "      <td>800</td>\n",
       "      <td>1</td>\n",
       "      <td>38</td>\n",
       "      <td>38</td>\n",
       "      <td>40</td>\n",
       "      <td>20</td>\n",
       "      <td>8</td>\n",
       "      <td>180</td>\n",
       "      <td>86</td>\n",
       "      <td>129</td>\n",
       "    </tr>\n",
       "  </tbody>\n",
       "</table>\n",
       "<p>1038 rows × 14 columns</p>\n",
       "</div>"
      ],
      "text/plain": [
       "         Make                   Model Release date Max resolution  \\\n",
       "0      STRING                  STRING       DOUBLE         DOUBLE   \n",
       "1        Agfa        Agfa ePhoto 1280         1997           1024   \n",
       "2        Agfa        Agfa ePhoto 1680         1998           1280   \n",
       "3        Agfa        Agfa ePhoto CL18         2000            640   \n",
       "4        Agfa        Agfa ePhoto CL30         1999           1152   \n",
       "5        Agfa  Agfa ePhoto CL30 Clik!         1999           1152   \n",
       "6        Agfa        Agfa ePhoto CL45         2001           1600   \n",
       "7        Agfa        Agfa ePhoto CL50         1999           1280   \n",
       "8       Canon     Canon PowerShot 350         1997            640   \n",
       "10      Canon     Canon PowerShot A10         2001           1280   \n",
       "11      Canon    Canon PowerShot A100         2002           1280   \n",
       "12      Canon     Canon PowerShot A20         2001           1600   \n",
       "13      Canon    Canon PowerShot A200         2002           1600   \n",
       "14      Canon     Canon PowerShot A30         2002           1280   \n",
       "15      Canon    Canon PowerShot A300         2003           2048   \n",
       "16      Canon    Canon PowerShot A310         2004           2048   \n",
       "17      Canon     Canon PowerShot A40         2002           1600   \n",
       "18      Canon    Canon PowerShot A400         2004           2048   \n",
       "19      Canon    Canon PowerShot A410         2005           2048   \n",
       "20      Canon    Canon PowerShot A420         2006           2272   \n",
       "21      Canon    Canon PowerShot A430         2006           2272   \n",
       "22      Canon    Canon PowerShot A450         2007           2592   \n",
       "23      Canon    Canon PowerShot A460         2007           2592   \n",
       "24      Canon      Canon PowerShot A5         1998           1024   \n",
       "25      Canon     Canon PowerShot A50         1999           1280   \n",
       "26      Canon    Canon PowerShot A510         2005           2048   \n",
       "27      Canon    Canon PowerShot A520         2005           2272   \n",
       "28      Canon    Canon PowerShot A530         2006           2592   \n",
       "29      Canon    Canon PowerShot A540         2006           2816   \n",
       "30      Canon    Canon PowerShot A550         2007           3072   \n",
       "...       ...                     ...          ...            ...   \n",
       "1009     Sony       Sony Mavica FD-71         1998            640   \n",
       "1010     Sony       Sony Mavica FD-73         1999            640   \n",
       "1011     Sony       Sony Mavica FD-75         2001            640   \n",
       "1012     Sony       Sony Mavica FD-81         1998           1024   \n",
       "1013     Sony       Sony Mavica FD-83         1999           1024   \n",
       "1014     Sony       Sony Mavica FD-85         2000           1280   \n",
       "1015     Sony       Sony Mavica FD-87         2001           1280   \n",
       "1016     Sony       Sony Mavica FD-88         1999           1280   \n",
       "1017     Sony       Sony Mavica FD-90         2000           1280   \n",
       "1018     Sony       Sony Mavica FD-92         2001           1472   \n",
       "1019     Sony       Sony Mavica FD-95         2000           1600   \n",
       "1020     Sony       Sony Mavica FD-97         2001           1600   \n",
       "1021  Toshiba        Toshiba PDR-3310         2002           2048   \n",
       "1022  Toshiba        Toshiba PDR-3330         2002           2048   \n",
       "1023  Toshiba        Toshiba PDR-4300         2003           2400   \n",
       "1024  Toshiba        Toshiba PDR-5300         2003           2560   \n",
       "1025  Toshiba          Toshiba PDR-M1         1998           1280   \n",
       "1026  Toshiba         Toshiba PDR-M11         2001           1280   \n",
       "1027  Toshiba         Toshiba PDR-M21         2001           1600   \n",
       "1028  Toshiba         Toshiba PDR-M25         2001           1729   \n",
       "1029  Toshiba          Toshiba PDR-M3          123           1280   \n",
       "1030  Toshiba          Toshiba PDR-M4         1999           1600   \n",
       "1031  Toshiba          Toshiba PDR-M5         1999           1600   \n",
       "1032  Toshiba         Toshiba PDR-M60         2000           1792   \n",
       "1033  Toshiba         Toshiba PDR-M61         2001           1792   \n",
       "1034  Toshiba         Toshiba PDR-M65         2001           2048   \n",
       "1035  Toshiba         Toshiba PDR-M70         2000           2048   \n",
       "1036  Toshiba         Toshiba PDR-M71         2001           2048   \n",
       "1037  Toshiba         Toshiba PDR-M81         2001           2400   \n",
       "1038  Toshiba         Toshiba PDR-T10         3000           1600   \n",
       "\n",
       "     Low resolution Effective pixels Zoom wide (W) Zoom tele (T)  \\\n",
       "0            DOUBLE           DOUBLE        DOUBLE        DOUBLE   \n",
       "1               640                0            38           114   \n",
       "2               640                1            38           114   \n",
       "3                 0                0            45            45   \n",
       "4               640                0            35            35   \n",
       "5               640                0            43            43   \n",
       "6               640                1            51            51   \n",
       "7               640                1            34           102   \n",
       "8                 0                0            42            42   \n",
       "10             1024                1            35           105   \n",
       "11             1024                1            39            39   \n",
       "12             1024                1            35           105   \n",
       "13             1024                1            39            39   \n",
       "14             1024                1            35           105   \n",
       "15             1600                3            33            33   \n",
       "16             1600                3            33            33   \n",
       "17             1024                1            35           105   \n",
       "18             1600                3            45           100   \n",
       "19             1600                3            41           131   \n",
       "20             1600                4            39           125   \n",
       "21             1600                4            39           156   \n",
       "22             2048                5            38           122   \n",
       "23             2048                5            38           152   \n",
       "24              512                0            35            35   \n",
       "25              640                1            28            70   \n",
       "26             1600                3            35           140   \n",
       "27             1600                3            35           140   \n",
       "28             2048                5            35           140   \n",
       "29             2272                6            35           140   \n",
       "30             2592                7            35           140   \n",
       "...             ...              ...           ...           ...   \n",
       "1009            320                0            40           400   \n",
       "1010            320                0            40           400   \n",
       "1011            320                0            40           400   \n",
       "1012            640                0            37           111   \n",
       "1013            640                0            37           111   \n",
       "1014           1280                1            37           111   \n",
       "1015           1024                1            39           117   \n",
       "1016           1024                1            34           270   \n",
       "1017           1280                1            34           270   \n",
       "1018           1280                1            41           328   \n",
       "1019           1600                1            37           370   \n",
       "1020           1024                1            39           390   \n",
       "1021           1024                3            35           105   \n",
       "1022           1024                3            35           100   \n",
       "1023           1200                3            35           100   \n",
       "1024           2048                4            35           105   \n",
       "1025            640                1            35            35   \n",
       "1026            640                1            52            52   \n",
       "1027            800                1            39            39   \n",
       "1028            896                2            38           114   \n",
       "1029            640                1            38           115   \n",
       "1030            800                1            40            40   \n",
       "1031            800                1            40           120   \n",
       "1032            896                2            38            86   \n",
       "1033            896                2            38           114   \n",
       "1034           1024                3            38           114   \n",
       "1035           1024                3            35           105   \n",
       "1036           1024                3            35            98   \n",
       "1037           1200                3            35            98   \n",
       "1038            800                1            38            38   \n",
       "\n",
       "     Normal focus range Macro focus range Storage included  \\\n",
       "0                DOUBLE            DOUBLE           DOUBLE   \n",
       "1                    70                40                4   \n",
       "2                    50                 0                4   \n",
       "3                     0                 0                2   \n",
       "4                     0                 0                4   \n",
       "5                    50                 0               40   \n",
       "6                    50                20                8   \n",
       "7                     0                 0                8   \n",
       "8                    70                 3                2   \n",
       "10                   76                16                8   \n",
       "11                   20                 5                8   \n",
       "12                   76                16                8   \n",
       "13                   20                 5                8   \n",
       "14                   76                16                8   \n",
       "15                   20                 5               32   \n",
       "16                    0                 5                0   \n",
       "17                   76                16                8   \n",
       "18                    0                 5               16   \n",
       "19                    0                 1               16   \n",
       "20                   47                 1               16   \n",
       "21                   47                 1               16   \n",
       "22                   47                 1               16   \n",
       "23                   47                 1               16   \n",
       "24                   50                 9                8   \n",
       "25                   50                17                8   \n",
       "26                    0                 5               16   \n",
       "27                    0                 5               16   \n",
       "28                   45                 5               16   \n",
       "29                   45                 5               16   \n",
       "30                   45                 5               16   \n",
       "...                 ...               ...              ...   \n",
       "1009                  1                 1                1   \n",
       "1010                  1                 1                1   \n",
       "1011                  1                 1                1   \n",
       "1012                  1                 1                1   \n",
       "1013                  1                 1                1   \n",
       "1014                  1                 1                1   \n",
       "1015                 25                 3                1   \n",
       "1016                  4                 4                1   \n",
       "1017                  4                 4                1   \n",
       "1018                 25                 3                1   \n",
       "1019                 80                 3                1   \n",
       "1020                 25                 2                1   \n",
       "1021                 55                12                8   \n",
       "1022                 80                10                8   \n",
       "1023                 80                10               16   \n",
       "1024                 80                10               16   \n",
       "1025                 50                 9                4   \n",
       "1026                 90                 0                8   \n",
       "1027                 50                 0                8   \n",
       "1028                 40                 8                8   \n",
       "1029                 90                25                4   \n",
       "1030                 50                10                8   \n",
       "1031                 90                25                8   \n",
       "1032                 50                 5                4   \n",
       "1033                 50                 5                8   \n",
       "1034                 10                10                8   \n",
       "1035                 80                 9               16   \n",
       "1036                 80                10                8   \n",
       "1037                 80                10               16   \n",
       "1038                 40                20                8   \n",
       "\n",
       "     Weight (inc. batteries) Dimensions   Price  \n",
       "0                     DOUBLE     DOUBLE  DOUBLE  \n",
       "1                        420         95     179  \n",
       "2                        420        158     179  \n",
       "3                          0          0     179  \n",
       "4                          0          0     269  \n",
       "5                        300        128    1299  \n",
       "6                        270        119     179  \n",
       "7                          0          0       0  \n",
       "8                        320         93     149  \n",
       "10                       375        110     139  \n",
       "11                       225        110     139  \n",
       "12                       375        110     139  \n",
       "13                       225        110     139  \n",
       "14                       350        110    -599  \n",
       "15                       225        111     139  \n",
       "16                       205        110     139  \n",
       "17                       350        110       0  \n",
       "18                       255        107     139  \n",
       "19                       195        103     139  \n",
       "20                       200        103     139  \n",
       "21                       210        103     139  \n",
       "22                       215        106     139  \n",
       "23                       215        106     139  \n",
       "24                       240        105     149  \n",
       "25                       290        103     149  \n",
       "26                       230         91     139  \n",
       "27                       230         91     149  \n",
       "28                       220         90     149  \n",
       "29                       230         90     149  \n",
       "30                       210         91     149  \n",
       "...                      ...        ...     ...  \n",
       "1009                     500        138    1399  \n",
       "1010                     500        138    1399  \n",
       "1011                     580        138    1399  \n",
       "1012                     580        140    1399  \n",
       "1013                     580        142    1399  \n",
       "1014                       0          0    1399  \n",
       "1015                     630        143    1399  \n",
       "1016                     600        142    1399  \n",
       "1017                       0          0    1399  \n",
       "1018                     660        126    1399  \n",
       "1019                     900          0    1399  \n",
       "1020                     990        126    1399  \n",
       "1021                     205         91     177  \n",
       "1022                     320        116     177  \n",
       "1023                       0          0     599  \n",
       "1024                     230         93     177  \n",
       "1025                     290        123      62  \n",
       "1026                     240        116      62  \n",
       "1027                     240        116     177  \n",
       "1028                     320        105     177  \n",
       "1029                     380        122      62  \n",
       "1030                     290        112      62  \n",
       "1031                     350        130      62  \n",
       "1032                     320        121     449  \n",
       "1033                     310        123      62  \n",
       "1034                     320        120      62  \n",
       "1035                     390        116      62  \n",
       "1036                     340        107      62  \n",
       "1037                     340        107      62  \n",
       "1038                     180         86     129  \n",
       "\n",
       "[1038 rows x 14 columns]"
      ]
     },
     "execution_count": 33,
     "metadata": {},
     "output_type": "execute_result"
    }
   ],
   "source": [
    "df.drop_duplicates(keep='first',inplace=False)"
   ]
  },
  {
   "cell_type": "code",
   "execution_count": 34,
   "metadata": {},
   "outputs": [
    {
     "data": {
      "text/plain": [
       "(1039, 14)"
      ]
     },
     "execution_count": 34,
     "metadata": {},
     "output_type": "execute_result"
    }
   ],
   "source": [
    "df.shape"
   ]
  },
  {
   "cell_type": "markdown",
   "metadata": {},
   "source": [
    "### Drop rows with invalid year"
   ]
  },
  {
   "cell_type": "code",
   "execution_count": 35,
   "metadata": {},
   "outputs": [
    {
     "data": {
      "text/html": [
       "<div>\n",
       "<style>\n",
       "    .dataframe thead tr:only-child th {\n",
       "        text-align: right;\n",
       "    }\n",
       "\n",
       "    .dataframe thead th {\n",
       "        text-align: left;\n",
       "    }\n",
       "\n",
       "    .dataframe tbody tr th {\n",
       "        vertical-align: top;\n",
       "    }\n",
       "</style>\n",
       "<table border=\"1\" class=\"dataframe\">\n",
       "  <thead>\n",
       "    <tr style=\"text-align: right;\">\n",
       "      <th></th>\n",
       "      <th>Make</th>\n",
       "      <th>Model</th>\n",
       "      <th>Release date</th>\n",
       "      <th>Max resolution</th>\n",
       "      <th>Low resolution</th>\n",
       "      <th>Effective pixels</th>\n",
       "      <th>Zoom wide (W)</th>\n",
       "      <th>Zoom tele (T)</th>\n",
       "      <th>Normal focus range</th>\n",
       "      <th>Macro focus range</th>\n",
       "      <th>Storage included</th>\n",
       "      <th>Weight (inc. batteries)</th>\n",
       "      <th>Dimensions</th>\n",
       "      <th>Price</th>\n",
       "    </tr>\n",
       "  </thead>\n",
       "  <tbody>\n",
       "    <tr>\n",
       "      <th>1029</th>\n",
       "      <td>Toshiba</td>\n",
       "      <td>Toshiba PDR-M3</td>\n",
       "      <td>123</td>\n",
       "      <td>1280</td>\n",
       "      <td>640</td>\n",
       "      <td>1</td>\n",
       "      <td>38</td>\n",
       "      <td>115</td>\n",
       "      <td>90</td>\n",
       "      <td>25</td>\n",
       "      <td>4</td>\n",
       "      <td>380</td>\n",
       "      <td>122</td>\n",
       "      <td>62</td>\n",
       "    </tr>\n",
       "  </tbody>\n",
       "</table>\n",
       "</div>"
      ],
      "text/plain": [
       "         Make           Model Release date Max resolution Low resolution  \\\n",
       "1029  Toshiba  Toshiba PDR-M3          123           1280            640   \n",
       "\n",
       "     Effective pixels Zoom wide (W) Zoom tele (T) Normal focus range  \\\n",
       "1029                1            38           115                 90   \n",
       "\n",
       "     Macro focus range Storage included Weight (inc. batteries) Dimensions  \\\n",
       "1029                25                4                     380        122   \n",
       "\n",
       "     Price  \n",
       "1029    62  "
      ]
     },
     "execution_count": 35,
     "metadata": {},
     "output_type": "execute_result"
    }
   ],
   "source": [
    "# Find rows with invalid year\n",
    "df.loc[df['Release date'] < '1900']"
   ]
  },
  {
   "cell_type": "code",
   "execution_count": 36,
   "metadata": {},
   "outputs": [
    {
     "data": {
      "text/plain": [
       "(1038, 14)"
      ]
     },
     "execution_count": 36,
     "metadata": {},
     "output_type": "execute_result"
    }
   ],
   "source": [
    "df = df[df['Release date'] > '1900']  \n",
    "df.shape"
   ]
  },
  {
   "cell_type": "code",
   "execution_count": 37,
   "metadata": {},
   "outputs": [
    {
     "data": {
      "text/plain": [
       "(1036, 14)"
      ]
     },
     "execution_count": 37,
     "metadata": {},
     "output_type": "execute_result"
    }
   ],
   "source": [
    "df = df[df['Release date'] < '2017']  \n",
    "df.shape"
   ]
  },
  {
   "cell_type": "markdown",
   "metadata": {},
   "source": [
    "### Drop with 0 or negative price"
   ]
  },
  {
   "cell_type": "code",
   "execution_count": 38,
   "metadata": {},
   "outputs": [
    {
     "data": {
      "text/html": [
       "<div>\n",
       "<style>\n",
       "    .dataframe thead tr:only-child th {\n",
       "        text-align: right;\n",
       "    }\n",
       "\n",
       "    .dataframe thead th {\n",
       "        text-align: left;\n",
       "    }\n",
       "\n",
       "    .dataframe tbody tr th {\n",
       "        vertical-align: top;\n",
       "    }\n",
       "</style>\n",
       "<table border=\"1\" class=\"dataframe\">\n",
       "  <thead>\n",
       "    <tr style=\"text-align: right;\">\n",
       "      <th></th>\n",
       "      <th>Make</th>\n",
       "      <th>Model</th>\n",
       "      <th>Release date</th>\n",
       "      <th>Max resolution</th>\n",
       "      <th>Low resolution</th>\n",
       "      <th>Effective pixels</th>\n",
       "      <th>Zoom wide (W)</th>\n",
       "      <th>Zoom tele (T)</th>\n",
       "      <th>Normal focus range</th>\n",
       "      <th>Macro focus range</th>\n",
       "      <th>Storage included</th>\n",
       "      <th>Weight (inc. batteries)</th>\n",
       "      <th>Dimensions</th>\n",
       "      <th>Price</th>\n",
       "    </tr>\n",
       "  </thead>\n",
       "  <tbody>\n",
       "    <tr>\n",
       "      <th>7</th>\n",
       "      <td>Agfa</td>\n",
       "      <td>Agfa ePhoto CL50</td>\n",
       "      <td>1999</td>\n",
       "      <td>1280</td>\n",
       "      <td>640</td>\n",
       "      <td>1</td>\n",
       "      <td>34</td>\n",
       "      <td>102</td>\n",
       "      <td>0</td>\n",
       "      <td>0</td>\n",
       "      <td>8</td>\n",
       "      <td>0</td>\n",
       "      <td>0</td>\n",
       "      <td>0</td>\n",
       "    </tr>\n",
       "    <tr>\n",
       "      <th>14</th>\n",
       "      <td>Canon</td>\n",
       "      <td>Canon PowerShot A30</td>\n",
       "      <td>2002</td>\n",
       "      <td>1280</td>\n",
       "      <td>1024</td>\n",
       "      <td>1</td>\n",
       "      <td>35</td>\n",
       "      <td>105</td>\n",
       "      <td>76</td>\n",
       "      <td>16</td>\n",
       "      <td>8</td>\n",
       "      <td>350</td>\n",
       "      <td>110</td>\n",
       "      <td>-599</td>\n",
       "    </tr>\n",
       "    <tr>\n",
       "      <th>17</th>\n",
       "      <td>Canon</td>\n",
       "      <td>Canon PowerShot A40</td>\n",
       "      <td>2002</td>\n",
       "      <td>1600</td>\n",
       "      <td>1024</td>\n",
       "      <td>1</td>\n",
       "      <td>35</td>\n",
       "      <td>105</td>\n",
       "      <td>76</td>\n",
       "      <td>16</td>\n",
       "      <td>8</td>\n",
       "      <td>350</td>\n",
       "      <td>110</td>\n",
       "      <td>0</td>\n",
       "    </tr>\n",
       "  </tbody>\n",
       "</table>\n",
       "</div>"
      ],
      "text/plain": [
       "     Make                Model Release date Max resolution Low resolution  \\\n",
       "7    Agfa     Agfa ePhoto CL50         1999           1280            640   \n",
       "14  Canon  Canon PowerShot A30         2002           1280           1024   \n",
       "17  Canon  Canon PowerShot A40         2002           1600           1024   \n",
       "\n",
       "   Effective pixels Zoom wide (W) Zoom tele (T) Normal focus range  \\\n",
       "7                 1            34           102                  0   \n",
       "14                1            35           105                 76   \n",
       "17                1            35           105                 76   \n",
       "\n",
       "   Macro focus range Storage included Weight (inc. batteries) Dimensions Price  \n",
       "7                  0                8                       0          0     0  \n",
       "14                16                8                     350        110  -599  \n",
       "17                16                8                     350        110     0  "
      ]
     },
     "execution_count": 38,
     "metadata": {},
     "output_type": "execute_result"
    }
   ],
   "source": [
    "# Find rows with 0 or negative price\n",
    "df.loc[df['Price'] <= '0']"
   ]
  },
  {
   "cell_type": "code",
   "execution_count": 39,
   "metadata": {},
   "outputs": [
    {
     "data": {
      "text/plain": [
       "(1033, 14)"
      ]
     },
     "execution_count": 39,
     "metadata": {},
     "output_type": "execute_result"
    }
   ],
   "source": [
    "df = df[df['Price'] > '0']  \n",
    "df.shape"
   ]
  },
  {
   "cell_type": "markdown",
   "metadata": {},
   "source": [
    "# Report missing data"
   ]
  },
  {
   "cell_type": "code",
   "execution_count": 40,
   "metadata": {},
   "outputs": [
    {
     "data": {
      "image/png": "[encoded data removed]",
      "text/plain": [
       "<matplotlib.figure.Figure at 0xa04e198>"
      ]
     },
     "metadata": {},
     "output_type": "display_data"
    }
   ],
   "source": [
    "# Draw make vs costs\n",
    "import missingno as msno\n",
    "import matplotlib.pyplot as plt\n",
    "%matplotlib inline\n",
    "plt.style.use('ggplot')\n",
    "msno.matrix(df)"
   ]
  },
  {
   "cell_type": "code",
   "execution_count": 41,
   "metadata": {},
   "outputs": [
    {
     "data": {
      "image/png": "[encoded data removed]",
      "text/plain": [
       "<matplotlib.figure.Figure at 0xce2db70>"
      ]
     },
     "metadata": {},
     "output_type": "display_data"
    }
   ],
   "source": [
    "msno.bar(df)"
   ]
  },
  {
   "cell_type": "code",
   "execution_count": 42,
   "metadata": {},
   "outputs": [
    {
     "data": {
      "image/png": "[encoded data removed]",
      "text/plain": [
       "<matplotlib.figure.Figure at 0xc9de080>"
      ]
     },
     "metadata": {},
     "output_type": "display_data"
    }
   ],
   "source": [
    "msno.heatmap(df)"
   ]
  },
  {
   "cell_type": "markdown",
   "metadata": {},
   "source": [
    "# Remove rows where data is missing"
   ]
  },
  {
   "cell_type": "code",
   "execution_count": 43,
   "metadata": {
    "collapsed": true
   },
   "outputs": [],
   "source": [
    "df.columns = [\"make\", \"model\", \"release_date\", \"max_resolution\", \"low_resolution\", \"pixels\", \n",
    "                  \"zoom_wide\", \"zoom_tele\", \"normal_focus\", \"macro_focus\",\"storage\", \"weight\", \"dimensions\", \"price\"]"
   ]
  },
  {
   "cell_type": "code",
   "execution_count": 44,
   "metadata": {},
   "outputs": [
    {
     "data": {
      "text/plain": [
       "make              object\n",
       "model             object\n",
       "release_date      object\n",
       "max_resolution    object\n",
       "low_resolution    object\n",
       "pixels            object\n",
       "zoom_wide         object\n",
       "zoom_tele         object\n",
       "normal_focus      object\n",
       "macro_focus       object\n",
       "storage           object\n",
       "weight            object\n",
       "dimensions        object\n",
       "price             object\n",
       "dtype: object"
      ]
     },
     "execution_count": 44,
     "metadata": {},
     "output_type": "execute_result"
    }
   ],
   "source": [
    "df.dtypes"
   ]
  },
  {
   "cell_type": "code",
   "execution_count": 45,
   "metadata": {},
   "outputs": [
    {
     "data": {
      "text/plain": [
       "2"
      ]
     },
     "execution_count": 45,
     "metadata": {},
     "output_type": "execute_result"
    }
   ],
   "source": [
    "df.storage.isnull().sum()"
   ]
  },
  {
   "cell_type": "code",
   "execution_count": 46,
   "metadata": {},
   "outputs": [
    {
     "data": {
      "text/plain": [
       "2"
      ]
     },
     "execution_count": 46,
     "metadata": {},
     "output_type": "execute_result"
    }
   ],
   "source": [
    "df.dimensions.isnull().sum()"
   ]
  },
  {
   "cell_type": "code",
   "execution_count": 47,
   "metadata": {},
   "outputs": [
    {
     "data": {
      "text/plain": [
       "2"
      ]
     },
     "execution_count": 47,
     "metadata": {},
     "output_type": "execute_result"
    }
   ],
   "source": [
    "df.weight.isnull().sum()"
   ]
  },
  {
   "cell_type": "code",
   "execution_count": 48,
   "metadata": {},
   "outputs": [
    {
     "data": {
      "text/plain": [
       "(1033, 14)"
      ]
     },
     "execution_count": 48,
     "metadata": {},
     "output_type": "execute_result"
    }
   ],
   "source": [
    "df.shape"
   ]
  },
  {
   "cell_type": "markdown",
   "metadata": {},
   "source": [
    "Drop the rows with no data"
   ]
  },
  {
   "cell_type": "code",
   "execution_count": 49,
   "metadata": {},
   "outputs": [
    {
     "data": {
      "text/plain": [
       "(1031, 14)"
      ]
     },
     "execution_count": 49,
     "metadata": {},
     "output_type": "execute_result"
    }
   ],
   "source": [
    "df.dropna(subset=['storage', 'dimensions', 'weight'], inplace=True)\n",
    "df.shape"
   ]
  },
  {
   "cell_type": "code",
   "execution_count": 50,
   "metadata": {
    "collapsed": true
   },
   "outputs": [],
   "source": [
    "df[['release_date', 'storage', 'price']] = df[['release_date', 'storage','price']].astype(int)"
   ]
  },
  {
   "cell_type": "markdown",
   "metadata": {},
   "source": [
    "### Predict price of camera based on release date and storage\n"
   ]
  },
  {
   "cell_type": "code",
   "execution_count": 51,
   "metadata": {},
   "outputs": [
    {
     "data": {
      "text/plain": [
       "array([[  1.00000000e+00,   1.99700000e+03,   4.00000000e+00],\n",
       "       [  1.00000000e+00,   1.99800000e+03,   4.00000000e+00],\n",
       "       [  1.00000000e+00,   2.00000000e+03,   2.00000000e+00],\n",
       "       ..., \n",
       "       [  1.00000000e+00,   2.00000000e+03,   1.60000000e+01],\n",
       "       [  1.00000000e+00,   2.00100000e+03,   8.00000000e+00],\n",
       "       [  1.00000000e+00,   2.00100000e+03,   1.60000000e+01]])"
      ]
     },
     "execution_count": 51,
     "metadata": {},
     "output_type": "execute_result"
    }
   ],
   "source": [
    "# create the x matrix\n",
    "n = 1031\n",
    "x0 = np.ones(n)\n",
    "x1 = df.release_date\n",
    "x2 = df.storage\n",
    "X = np.c_[x0, x1, x2]\n",
    "X"
   ]
  },
  {
   "cell_type": "code",
   "execution_count": 52,
   "metadata": {},
   "outputs": [
    {
     "data": {
      "text/plain": [
       "array([[  1.00000000e+00,   1.99700000e+03,   4.00000000e+00],\n",
       "       [  1.00000000e+00,   1.99800000e+03,   4.00000000e+00],\n",
       "       [  1.00000000e+00,   2.00000000e+03,   2.00000000e+00],\n",
       "       ..., \n",
       "       [  1.00000000e+00,   2.00000000e+03,   1.60000000e+01],\n",
       "       [  1.00000000e+00,   2.00100000e+03,   8.00000000e+00],\n",
       "       [  1.00000000e+00,   2.00100000e+03,   1.60000000e+01]])"
      ]
     },
     "execution_count": 52,
     "metadata": {},
     "output_type": "execute_result"
    }
   ],
   "source": [
    "X"
   ]
  },
  {
   "cell_type": "code",
   "execution_count": 53,
   "metadata": {},
   "outputs": [
    {
     "data": {
      "text/plain": [
       "(1031, 3)"
      ]
     },
     "execution_count": 53,
     "metadata": {},
     "output_type": "execute_result"
    }
   ],
   "source": [
    "X.shape"
   ]
  },
  {
   "cell_type": "code",
   "execution_count": 54,
   "metadata": {},
   "outputs": [
    {
     "name": "stderr",
     "output_type": "stream",
     "text": [
      "C:\\Users\\bindus\\AppData\\Local\\Continuum\\Anaconda3\\lib\\site-packages\\ipykernel_launcher.py:2: FutureWarning: reshape is deprecated and will raise in a subsequent release. Please use .values.reshape(...) instead\n",
      "  \n"
     ]
    },
    {
     "data": {
      "text/plain": [
       "matrix([[179],\n",
       "        [179],\n",
       "        [179],\n",
       "        ..., \n",
       "        [ 62],\n",
       "        [ 62],\n",
       "        [ 62]])"
      ]
     },
     "execution_count": 54,
     "metadata": {},
     "output_type": "execute_result"
    }
   ],
   "source": [
    "# create the y matrix\n",
    "y = np.asmatrix(df.price.reshape(-1,1))\n",
    "y"
   ]
  },
  {
   "cell_type": "code",
   "execution_count": 55,
   "metadata": {
    "collapsed": true
   },
   "outputs": [],
   "source": [
    "#y = y.astype(int)\n"
   ]
  },
  {
   "cell_type": "code",
   "execution_count": 56,
   "metadata": {},
   "outputs": [
    {
     "data": {
      "text/plain": [
       "array([[  1.00000000e+00,   1.00000000e+00,   1.00000000e+00, ...,\n",
       "          1.00000000e+00,   1.00000000e+00,   1.00000000e+00],\n",
       "       [  1.99700000e+03,   1.99800000e+03,   2.00000000e+03, ...,\n",
       "          2.00000000e+03,   2.00100000e+03,   2.00100000e+03],\n",
       "       [  4.00000000e+00,   4.00000000e+00,   2.00000000e+00, ...,\n",
       "          1.60000000e+01,   8.00000000e+00,   1.60000000e+01]])"
      ]
     },
     "execution_count": 56,
     "metadata": {},
     "output_type": "execute_result"
    }
   ],
   "source": [
    "X_T = np.transpose(X)\n",
    "X_T.shape\n",
    "#X_T = X_T.astype(int)\n",
    "X_T"
   ]
  },
  {
   "cell_type": "code",
   "execution_count": 57,
   "metadata": {},
   "outputs": [
    {
     "data": {
      "text/plain": [
       "(3, 1031)"
      ]
     },
     "execution_count": 57,
     "metadata": {},
     "output_type": "execute_result"
    }
   ],
   "source": [
    "X_T.shape"
   ]
  },
  {
   "cell_type": "code",
   "execution_count": 58,
   "metadata": {
    "collapsed": true
   },
   "outputs": [],
   "source": [
    "#X_T * X\n",
    "XT = np.dot(X_T, X)\n",
    "#XT = np.dot(X_T,X)"
   ]
  },
  {
   "cell_type": "code",
   "execution_count": 59,
   "metadata": {},
   "outputs": [
    {
     "data": {
      "text/plain": [
       "array([[  1.74042140e+00,   1.46509366e+00,   9.02947876e-01, ...,\n",
       "          9.83380152e-01,   6.62091119e-01,   7.08052420e-01],\n",
       "       [ -8.68170745e-04,  -7.30729044e-04,  -4.50087317e-04, ...,\n",
       "         -4.90395585e-04,  -3.29920588e-04,  -3.52953884e-04],\n",
       "       [  8.53529756e-07,  -2.02563228e-06,  -1.04727297e-05, ...,\n",
       "          8.34868372e-06,  -5.28557170e-06,   5.46952168e-06]])"
      ]
     },
     "execution_count": 59,
     "metadata": {},
     "output_type": "execute_result"
    }
   ],
   "source": [
    "X_pseudo = np.dot(np.linalg.inv(XT), X_T)\n",
    "X_pseudo"
   ]
  },
  {
   "cell_type": "code",
   "execution_count": 60,
   "metadata": {},
   "outputs": [
    {
     "data": {
      "text/plain": [
       "(3, 1031)"
      ]
     },
     "execution_count": 60,
     "metadata": {},
     "output_type": "execute_result"
    }
   ],
   "source": [
    "X_pseudo.shape"
   ]
  },
  {
   "cell_type": "code",
   "execution_count": 61,
   "metadata": {},
   "outputs": [
    {
     "data": {
      "text/plain": [
       "matrix([[  2.25487448e+03],\n",
       "        [ -8.71044749e-01],\n",
       "        [ -2.86457885e+00]])"
      ]
     },
     "execution_count": 61,
     "metadata": {},
     "output_type": "execute_result"
    }
   ],
   "source": [
    "beta = X_pseudo * y\n",
    "beta"
   ]
  },
  {
   "cell_type": "code",
   "execution_count": 62,
   "metadata": {},
   "outputs": [
    {
     "data": {
      "image/png": "[encoded data removed]",
      "text/plain": [
       "<matplotlib.figure.Figure at 0xd3482e8>"
      ]
     },
     "metadata": {},
     "output_type": "display_data"
    }
   ],
   "source": [
    "from mpl_toolkits.mplot3d import Axes3D\n",
    "fig = plt.figure()\n",
    "ax = fig.gca(projection='3d')\n",
    "ax.scatter(df.release_date,df.storage,df.price, c='r', marker='o', s = 200)\n",
    "\n",
    "xrange = np.arange(min(df.release_date), max(df.release_date), 1)\n",
    "yrange = np.arange(min(df.storage), max(df.storage), 1)\n",
    "x, y = np.meshgrid(xrange, yrange)\n",
    "z = 524 - 22 * y + 4 * x\n",
    "ax.plot_surface(x, y, z, color ='blue', alpha = 0.5)\n",
    "ax.view_init(azim=60)"
   ]
  },
  {
   "cell_type": "markdown",
   "metadata": {},
   "source": [
    "## Use sklearn to solve the equations\n"
   ]
  },
  {
   "cell_type": "code",
   "execution_count": 63,
   "metadata": {
    "collapsed": true
   },
   "outputs": [],
   "source": [
    "from sklearn import linear_model\n",
    "y = df.price\n",
    "X = df[['release_date', 'storage']]"
   ]
  },
  {
   "cell_type": "code",
   "execution_count": 64,
   "metadata": {},
   "outputs": [
    {
     "data": {
      "text/plain": [
       "LinearRegression(copy_X=True, fit_intercept=True, n_jobs=1, normalize=False)"
      ]
     },
     "execution_count": 64,
     "metadata": {},
     "output_type": "execute_result"
    }
   ],
   "source": [
    "model_sklearn = linear_model.LinearRegression()\n",
    "model_sklearn.fit(X, y)"
   ]
  },
  {
   "cell_type": "code",
   "execution_count": 65,
   "metadata": {},
   "outputs": [
    {
     "data": {
      "text/plain": [
       "array([-0.87104475, -2.86457885])"
      ]
     },
     "execution_count": 65,
     "metadata": {},
     "output_type": "execute_result"
    }
   ],
   "source": [
    "model_sklearn.coef_"
   ]
  },
  {
   "cell_type": "code",
   "execution_count": 66,
   "metadata": {},
   "outputs": [
    {
     "data": {
      "text/plain": [
       "2254.8744774531442"
      ]
     },
     "execution_count": 66,
     "metadata": {},
     "output_type": "execute_result"
    }
   ],
   "source": [
    "model_sklearn.intercept_"
   ]
  },
  {
   "cell_type": "code",
   "execution_count": 67,
   "metadata": {
    "collapsed": true
   },
   "outputs": [],
   "source": [
    "model_sklearn_norm = linear_model.LinearRegression(normalize = True)"
   ]
  },
  {
   "cell_type": "code",
   "execution_count": 69,
   "metadata": {},
   "outputs": [
    {
     "name": "stdout",
     "output_type": "stream",
     "text": [
      "b0 =  2255.0 b1 = -1.0 b2 = -3.0\n"
     ]
    }
   ],
   "source": [
    "beta0 = round(model_sklearn.intercept_)\n",
    "beta1 = round(model_sklearn.coef_[0])\n",
    "beta2 = round(model_sklearn.coef_[1])\n",
    "print(\"b0 = \", beta0, \"b1 =\", beta1,\"b2 =\", beta2)"
   ]
  },
  {
   "cell_type": "markdown",
   "metadata": {},
   "source": [
    "## Plotting the Regression Line"
   ]
  },
  {
   "cell_type": "code",
   "execution_count": 70,
   "metadata": {},
   "outputs": [
    {
     "data": {
      "text/plain": [
       "<matplotlib.text.Text at 0xcc6ad30>"
      ]
     },
     "execution_count": 70,
     "metadata": {},
     "output_type": "execute_result"
    },
    {
     "data": {
      "image/png": "[encoded data removed]",
      "text/plain": [
       "<matplotlib.figure.Figure at 0xc9bcf60>"
      ]
     },
     "metadata": {},
     "output_type": "display_data"
    }
   ],
   "source": [
    "import matplotlib.pyplot as plt\n",
    "%matplotlib inline\n",
    "plt.style.use('fivethirtyeight')\n",
    "plt.rcParams['figure.figsize'] = (10, 6)\n",
    "plt.scatter(df.release_date, df.price, s = 150)\n",
    "plt.xlabel('release_date')\n",
    "plt.ylabel('price')"
   ]
  },
  {
   "cell_type": "code",
   "execution_count": 71,
   "metadata": {},
   "outputs": [
    {
     "data": {
      "text/plain": [
       "<matplotlib.collections.PathCollection at 0xd93e908>"
      ]
     },
     "execution_count": 71,
     "metadata": {},
     "output_type": "execute_result"
    },
    {
     "data": {
      "image/png": "[encoded data removed]",
      "text/plain": [
       "<matplotlib.figure.Figure at 0xd37e198>"
      ]
     },
     "metadata": {},
     "output_type": "display_data"
    }
   ],
   "source": [
    "x = np.arange(min(df.release_date),max(df.release_date),1)\n",
    "\n",
    "plt.xlabel('release_date')\n",
    "\n",
    "plt.ylabel('price')\n",
    "\n",
    "y_p = beta0 + beta1 * x\n",
    "plt.plot(x, y_p, '-')\n",
    "plt.scatter(df.release_date, df.price, s = 150, alpha = 0.5 )"
   ]
  },
  {
   "cell_type": "code",
   "execution_count": 72,
   "metadata": {},
   "outputs": [
    {
     "data": {
      "text/plain": [
       "<matplotlib.collections.PathCollection at 0xd9cac50>"
      ]
     },
     "execution_count": 72,
     "metadata": {},
     "output_type": "execute_result"
    },
    {
     "data": {
      "image/png": "[encoded data removed]",
      "text/plain": [
       "<matplotlib.figure.Figure at 0xd970208>"
      ]
     },
     "metadata": {},
     "output_type": "display_data"
    }
   ],
   "source": [
    "x = np.arange(min(df.storage),max(df.storage),1)\n",
    "\n",
    "plt.xlabel('storage')\n",
    "plt.ylabel('price')\n",
    "\n",
    "y_p = beta0 + beta1 * x\n",
    "plt.plot(x, y_p, '-')\n",
    "plt.scatter(df.storage, df.price, s = 150, alpha = 0.5 )"
   ]
  },
  {
   "cell_type": "markdown",
   "metadata": {},
   "source": [
    "## Calculating the Error term\n",
    "\n",
    "The error term as we saw is defined as:\n",
    "\n",
    "$$ E(\\beta)=   \\frac {1}{n} {||y - X\\beta||}^2 $$"
   ]
  },
  {
   "cell_type": "code",
   "execution_count": 73,
   "metadata": {
    "collapsed": true
   },
   "outputs": [],
   "source": [
    "# Solving using Ax = b approach\n",
    "n = df.shape[0]\n",
    "x0 = np.ones(n)\n",
    "x1 = df.release_date\n",
    "x2 = df.storage\n",
    "X = np.c_[x0, x1, x2]\n",
    "X = np.asmatrix(X)\n",
    "y = np.asmatrix(df.price.values.reshape(-1,1))\n",
    "b = np.asmatrix([[beta0],\n",
    "                 [beta1],[beta2]])"
   ]
  },
  {
   "cell_type": "code",
   "execution_count": 74,
   "metadata": {
    "collapsed": true
   },
   "outputs": [],
   "source": [
    "# Error calculation\n",
    "def error_term(X,y,b,n):\n",
    "    M = (y - X*b)\n",
    "    error = M.T*M / n\n",
    "    return error[0,0]"
   ]
  },
  {
   "cell_type": "code",
   "execution_count": 75,
   "metadata": {},
   "outputs": [
    {
     "data": {
      "text/plain": [
       "642619.0"
      ]
     },
     "execution_count": 75,
     "metadata": {},
     "output_type": "execute_result"
    }
   ],
   "source": [
    "round(error_term(X,y,b,n))"
   ]
  },
  {
   "cell_type": "markdown",
   "metadata": {},
   "source": [
    "# Gradient Descent\n"
   ]
  },
  {
   "cell_type": "code",
   "execution_count": 112,
   "metadata": {
    "collapsed": true
   },
   "outputs": [],
   "source": [
    "def gradientDescent(x, y, theta, alpha, m, numIterations):\n",
    "    xTrans = x.transpose()\n",
    "    for i in range(0, numIterations):\n",
    "        hypothesis = np.dot(x, theta)\n",
    "        loss = hypothesis - y \n",
    "        cost = np.sum(loss ** 2) / (2 * m)\n",
    "        print(\"Iteration %d | Cost: %f\" % (i, cost))\n",
    "        # avg gradient per example\n",
    "        gradient = np.dot(xTrans, loss) / m \n",
    "        # update\n",
    "        theta = theta - alpha * gradient\n",
    "    return theta"
   ]
  },
  {
   "cell_type": "code",
   "execution_count": 116,
   "metadata": {},
   "outputs": [
    {
     "ename": "ValueError",
     "evalue": "input must be a square array",
     "output_type": "error",
     "traceback": [
      "\u001b[1;31m---------------------------------------------------------------------------\u001b[0m",
      "\u001b[1;31mValueError\u001b[0m                                Traceback (most recent call last)",
      "\u001b[1;32m<ipython-input-116-deaf49a3039c>\u001b[0m in \u001b[0;36m<module>\u001b[1;34m()\u001b[0m\n\u001b[0;32m      3\u001b[0m \u001b[0malpha\u001b[0m \u001b[1;33m=\u001b[0m \u001b[1;36m0.0005\u001b[0m\u001b[1;33m\u001b[0m\u001b[0m\n\u001b[0;32m      4\u001b[0m \u001b[0mtheta\u001b[0m \u001b[1;33m=\u001b[0m \u001b[0mnp\u001b[0m\u001b[1;33m.\u001b[0m\u001b[0mones\u001b[0m\u001b[1;33m(\u001b[0m\u001b[0mn\u001b[0m\u001b[1;33m)\u001b[0m\u001b[1;33m\u001b[0m\u001b[0m\n\u001b[1;32m----> 5\u001b[1;33m \u001b[0mtheta\u001b[0m \u001b[1;33m=\u001b[0m \u001b[0mgradientDescent\u001b[0m\u001b[1;33m(\u001b[0m\u001b[0mX\u001b[0m\u001b[1;33m,\u001b[0m \u001b[0my\u001b[0m\u001b[1;33m,\u001b[0m \u001b[0mtheta\u001b[0m\u001b[1;33m,\u001b[0m \u001b[0malpha\u001b[0m\u001b[1;33m,\u001b[0m \u001b[0mm\u001b[0m\u001b[1;33m,\u001b[0m \u001b[0mnumIterations\u001b[0m\u001b[1;33m)\u001b[0m\u001b[1;33m\u001b[0m\u001b[0m\n\u001b[0m\u001b[0;32m      6\u001b[0m \u001b[0mprint\u001b[0m\u001b[1;33m(\u001b[0m\u001b[0mtheta\u001b[0m\u001b[1;33m)\u001b[0m\u001b[1;33m\u001b[0m\u001b[0m\n",
      "\u001b[1;32m<ipython-input-112-90515ec275a9>\u001b[0m in \u001b[0;36mgradientDescent\u001b[1;34m(x, y, theta, alpha, m, numIterations)\u001b[0m\n\u001b[0;32m      4\u001b[0m         \u001b[0mhypothesis\u001b[0m \u001b[1;33m=\u001b[0m \u001b[0mnp\u001b[0m\u001b[1;33m.\u001b[0m\u001b[0mdot\u001b[0m\u001b[1;33m(\u001b[0m\u001b[0mx\u001b[0m\u001b[1;33m,\u001b[0m \u001b[0mtheta\u001b[0m\u001b[1;33m)\u001b[0m\u001b[1;33m\u001b[0m\u001b[0m\n\u001b[0;32m      5\u001b[0m         \u001b[0mloss\u001b[0m \u001b[1;33m=\u001b[0m \u001b[0mhypothesis\u001b[0m \u001b[1;33m-\u001b[0m \u001b[0my\u001b[0m\u001b[1;33m\u001b[0m\u001b[0m\n\u001b[1;32m----> 6\u001b[1;33m         \u001b[0mcost\u001b[0m \u001b[1;33m=\u001b[0m \u001b[0mnp\u001b[0m\u001b[1;33m.\u001b[0m\u001b[0msum\u001b[0m\u001b[1;33m(\u001b[0m\u001b[0mloss\u001b[0m \u001b[1;33m**\u001b[0m \u001b[1;36m2\u001b[0m\u001b[1;33m)\u001b[0m \u001b[1;33m/\u001b[0m \u001b[1;33m(\u001b[0m\u001b[1;36m2\u001b[0m \u001b[1;33m*\u001b[0m \u001b[0mm\u001b[0m\u001b[1;33m)\u001b[0m\u001b[1;33m\u001b[0m\u001b[0m\n\u001b[0m\u001b[0;32m      7\u001b[0m         \u001b[0mprint\u001b[0m\u001b[1;33m(\u001b[0m\u001b[1;34m\"Iteration %d | Cost: %f\"\u001b[0m \u001b[1;33m%\u001b[0m \u001b[1;33m(\u001b[0m\u001b[0mi\u001b[0m\u001b[1;33m,\u001b[0m \u001b[0mcost\u001b[0m\u001b[1;33m)\u001b[0m\u001b[1;33m)\u001b[0m\u001b[1;33m\u001b[0m\u001b[0m\n\u001b[0;32m      8\u001b[0m         \u001b[1;31m# avg gradient per example\u001b[0m\u001b[1;33m\u001b[0m\u001b[1;33m\u001b[0m\u001b[0m\n",
      "\u001b[1;32mC:\\Users\\bindus\\AppData\\Local\\Continuum\\Anaconda3\\lib\\site-packages\\numpy\\matrixlib\\defmatrix.py\u001b[0m in \u001b[0;36m__pow__\u001b[1;34m(self, other)\u001b[0m\n\u001b[0;32m    354\u001b[0m \u001b[1;33m\u001b[0m\u001b[0m\n\u001b[0;32m    355\u001b[0m     \u001b[1;32mdef\u001b[0m \u001b[0m__pow__\u001b[0m\u001b[1;33m(\u001b[0m\u001b[0mself\u001b[0m\u001b[1;33m,\u001b[0m \u001b[0mother\u001b[0m\u001b[1;33m)\u001b[0m\u001b[1;33m:\u001b[0m\u001b[1;33m\u001b[0m\u001b[0m\n\u001b[1;32m--> 356\u001b[1;33m         \u001b[1;32mreturn\u001b[0m \u001b[0mmatrix_power\u001b[0m\u001b[1;33m(\u001b[0m\u001b[0mself\u001b[0m\u001b[1;33m,\u001b[0m \u001b[0mother\u001b[0m\u001b[1;33m)\u001b[0m\u001b[1;33m\u001b[0m\u001b[0m\n\u001b[0m\u001b[0;32m    357\u001b[0m \u001b[1;33m\u001b[0m\u001b[0m\n\u001b[0;32m    358\u001b[0m     \u001b[1;32mdef\u001b[0m \u001b[0m__ipow__\u001b[0m\u001b[1;33m(\u001b[0m\u001b[0mself\u001b[0m\u001b[1;33m,\u001b[0m \u001b[0mother\u001b[0m\u001b[1;33m)\u001b[0m\u001b[1;33m:\u001b[0m\u001b[1;33m\u001b[0m\u001b[0m\n",
      "\u001b[1;32mC:\\Users\\bindus\\AppData\\Local\\Continuum\\Anaconda3\\lib\\site-packages\\numpy\\matrixlib\\defmatrix.py\u001b[0m in \u001b[0;36mmatrix_power\u001b[1;34m(M, n)\u001b[0m\n\u001b[0;32m    171\u001b[0m     \u001b[0mM\u001b[0m \u001b[1;33m=\u001b[0m \u001b[0masanyarray\u001b[0m\u001b[1;33m(\u001b[0m\u001b[0mM\u001b[0m\u001b[1;33m)\u001b[0m\u001b[1;33m\u001b[0m\u001b[0m\n\u001b[0;32m    172\u001b[0m     \u001b[1;32mif\u001b[0m \u001b[0mlen\u001b[0m\u001b[1;33m(\u001b[0m\u001b[0mM\u001b[0m\u001b[1;33m.\u001b[0m\u001b[0mshape\u001b[0m\u001b[1;33m)\u001b[0m \u001b[1;33m!=\u001b[0m \u001b[1;36m2\u001b[0m \u001b[1;32mor\u001b[0m \u001b[0mM\u001b[0m\u001b[1;33m.\u001b[0m\u001b[0mshape\u001b[0m\u001b[1;33m[\u001b[0m\u001b[1;36m0\u001b[0m\u001b[1;33m]\u001b[0m \u001b[1;33m!=\u001b[0m \u001b[0mM\u001b[0m\u001b[1;33m.\u001b[0m\u001b[0mshape\u001b[0m\u001b[1;33m[\u001b[0m\u001b[1;36m1\u001b[0m\u001b[1;33m]\u001b[0m\u001b[1;33m:\u001b[0m\u001b[1;33m\u001b[0m\u001b[0m\n\u001b[1;32m--> 173\u001b[1;33m         \u001b[1;32mraise\u001b[0m \u001b[0mValueError\u001b[0m\u001b[1;33m(\u001b[0m\u001b[1;34m\"input must be a square array\"\u001b[0m\u001b[1;33m)\u001b[0m\u001b[1;33m\u001b[0m\u001b[0m\n\u001b[0m\u001b[0;32m    174\u001b[0m     \u001b[1;32mif\u001b[0m \u001b[1;32mnot\u001b[0m \u001b[0missubdtype\u001b[0m\u001b[1;33m(\u001b[0m\u001b[0mtype\u001b[0m\u001b[1;33m(\u001b[0m\u001b[0mn\u001b[0m\u001b[1;33m)\u001b[0m\u001b[1;33m,\u001b[0m \u001b[0mint\u001b[0m\u001b[1;33m)\u001b[0m\u001b[1;33m:\u001b[0m\u001b[1;33m\u001b[0m\u001b[0m\n\u001b[0;32m    175\u001b[0m         \u001b[1;32mraise\u001b[0m \u001b[0mTypeError\u001b[0m\u001b[1;33m(\u001b[0m\u001b[1;34m\"exponent must be an integer\"\u001b[0m\u001b[1;33m)\u001b[0m\u001b[1;33m\u001b[0m\u001b[0m\n",
      "\u001b[1;31mValueError\u001b[0m: input must be a square array"
     ]
    }
   ],
   "source": [
    "m, n = np.shape(X)\n",
    "numIterations= 100000\n",
    "alpha = 0.0005\n",
    "theta = np.ones(n)\n",
    "theta = gradientDescent(X, y, theta, alpha, m, numIterations)\n",
    "print(theta)"
   ]
  },
  {
   "cell_type": "code",
   "execution_count": 93,
   "metadata": {},
   "outputs": [],
   "source": [
    "\n",
    "    "
   ]
  },
  {
   "cell_type": "code",
   "execution_count": null,
   "metadata": {
    "collapsed": true
   },
   "outputs": [],
   "source": []
  }
 ],
 "metadata": {
  "kernelspec": {
   "display_name": "Python 3",
   "language": "python",
   "name": "python3"
  },
  "language_info": {
   "codemirror_mode": {
    "name": "ipython",
    "version": 3
   },
   "file_extension": ".py",
   "mimetype": "text/x-python",
   "name": "python",
   "nbconvert_exporter": "python",
   "pygments_lexer": "ipython3",
   "version": "3.6.1"
  }
 },
 "nbformat": 4,
 "nbformat_minor": 2
}
